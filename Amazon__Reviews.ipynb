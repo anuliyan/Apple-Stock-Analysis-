{
  "nbformat": 4,
  "nbformat_minor": 0,
  "metadata": {
    "colab": {
      "name": "Amazon_ Reviews",
      "provenance": [],
      "include_colab_link": true
    },
    "kernelspec": {
      "name": "python3",
      "display_name": "Python 3"
    },
    "accelerator": "GPU"
  },
  "cells": [
    {
      "cell_type": "markdown",
      "metadata": {
        "id": "view-in-github",
        "colab_type": "text"
      },
      "source": [
        "<a href=\"https://colab.research.google.com/github/anuliyan/Apple-Stock-Analysis-/blob/master/Amazon__Reviews.ipynb\" target=\"_parent\"><img src=\"https://colab.research.google.com/assets/colab-badge.svg\" alt=\"Open In Colab\"/></a>"
      ]
    },
    {
      "cell_type": "code",
      "metadata": {
        "id": "XSAK8lL9sQ4a",
        "colab_type": "code",
        "colab": {}
      },
      "source": [
        "!apt-get install openjdk-8-jdk-headless -qq > /dev/null\n",
        "!wget -q https://www-eu.apache.org/dist/spark/spark-2.4.4/spark-2.4.4-bin-hadoop2.7.tgz\n",
        "!tar xf spark-2.4.4-bin-hadoop2.7.tgz"
      ],
      "execution_count": 0,
      "outputs": []
    },
    {
      "cell_type": "markdown",
      "metadata": {
        "id": "IvCdoIVwiSSi",
        "colab_type": "text"
      },
      "source": [
        "Predict whether a review is positive or negative based on the letter in the review."
      ]
    },
    {
      "cell_type": "code",
      "metadata": {
        "id": "uz-MymZgsYKS",
        "colab_type": "code",
        "colab": {}
      },
      "source": [
        "#Install JAVA/Spark\n",
        "import os\n",
        "os.environ[\"JAVA_HOME\"] = \"/usr/lib/jvm/java-8-openjdk-amd64\"\n",
        "os.environ[\"SPARK_HOME\"] = \"/content/spark-2.4.4-bin-hadoop2.7\""
      ],
      "execution_count": 0,
      "outputs": []
    },
    {
      "cell_type": "code",
      "metadata": {
        "id": "XstZO0HGscmM",
        "colab_type": "code",
        "outputId": "e5f1d284-8a01-4b12-ecd1-721890f15e4b",
        "colab": {
          "base_uri": "https://localhost:8080/",
          "height": 238
        }
      },
      "source": [
        "#Install pyspark\n",
        "!pip install -q findspark\n",
        "!pip install pyspark"
      ],
      "execution_count": 3,
      "outputs": [
        {
          "output_type": "stream",
          "text": [
            "Collecting pyspark\n",
            "\u001b[?25l  Downloading https://files.pythonhosted.org/packages/87/21/f05c186f4ddb01d15d0ddc36ef4b7e3cedbeb6412274a41f26b55a650ee5/pyspark-2.4.4.tar.gz (215.7MB)\n",
            "\u001b[K     |████████████████████████████████| 215.7MB 57kB/s \n",
            "\u001b[?25hCollecting py4j==0.10.7\n",
            "\u001b[?25l  Downloading https://files.pythonhosted.org/packages/e3/53/c737818eb9a7dc32a7cd4f1396e787bd94200c3997c72c1dbe028587bd76/py4j-0.10.7-py2.py3-none-any.whl (197kB)\n",
            "\u001b[K     |████████████████████████████████| 204kB 50.5MB/s \n",
            "\u001b[?25hBuilding wheels for collected packages: pyspark\n",
            "  Building wheel for pyspark (setup.py) ... \u001b[?25l\u001b[?25hdone\n",
            "  Created wheel for pyspark: filename=pyspark-2.4.4-py2.py3-none-any.whl size=216130387 sha256=34a790fd5469f26d3c7be58ce4606aafb1942e476d6f81d55394a2b43d0a901f\n",
            "  Stored in directory: /root/.cache/pip/wheels/ab/09/4d/0d184230058e654eb1b04467dbc1292f00eaa186544604b471\n",
            "Successfully built pyspark\n",
            "Installing collected packages: py4j, pyspark\n",
            "Successfully installed py4j-0.10.7 pyspark-2.4.4\n"
          ],
          "name": "stdout"
        }
      ]
    },
    {
      "cell_type": "code",
      "metadata": {
        "id": "kEsLdNt1sexL",
        "colab_type": "code",
        "colab": {}
      },
      "source": [
        "from pyspark import SparkContext\n",
        "from pyspark.sql import SparkSession, SQLContext\n",
        "\n",
        "from pyspark.sql.functions import UserDefinedFunction\n",
        "from pyspark.sql.types import IntegerType\n",
        "\n",
        "from pyspark.ml.feature import Tokenizer, Word2Vec\n",
        "\n",
        "# cleaning data, preparing a model,executing the model, and evaluating the model.\n",
        "from pyspark.ml import Pipeline\n",
        "from pyspark.ml.classification import RandomForestClassifier\n",
        "from pyspark.ml.feature import IndexToString, StringIndexer, VectorIndexer, VectorAssembler\n",
        "from pyspark.ml.evaluation import MulticlassClassificationEvaluator\n",
        "from pyspark.mllib.evaluation import BinaryClassificationMetrics\n",
        "\n",
        "from matplotlib import pyplot as plt\n",
        "import numpy as np\n",
        "import functools\n",
        "%matplotlib inline"
      ],
      "execution_count": 0,
      "outputs": []
    },
    {
      "cell_type": "code",
      "metadata": {
        "id": "5SNhJ56TwKBm",
        "colab_type": "code",
        "outputId": "f8a6a8f9-28fe-4f96-f1a2-bfac515e951b",
        "colab": {
          "base_uri": "https://localhost:8080/",
          "height": 122
        }
      },
      "source": [
        "#Mount G Drive\n",
        "from google.colab import drive\n",
        "drive.mount('/content/gdrive')"
      ],
      "execution_count": 5,
      "outputs": [
        {
          "output_type": "stream",
          "text": [
            "Go to this URL in a browser: https://accounts.google.com/o/oauth2/auth?client_id=947318989803-6bn6qk8qdgf4n4g3pfee6491hc0brc4i.apps.googleusercontent.com&redirect_uri=urn%3aietf%3awg%3aoauth%3a2.0%3aoob&response_type=code&scope=email%20https%3a%2f%2fwww.googleapis.com%2fauth%2fdocs.test%20https%3a%2f%2fwww.googleapis.com%2fauth%2fdrive%20https%3a%2f%2fwww.googleapis.com%2fauth%2fdrive.photos.readonly%20https%3a%2f%2fwww.googleapis.com%2fauth%2fpeopleapi.readonly\n",
            "\n",
            "Enter your authorization code:\n",
            "··········\n",
            "Mounted at /content/gdrive\n"
          ],
          "name": "stdout"
        }
      ]
    },
    {
      "cell_type": "code",
      "metadata": {
        "id": "lxH-fIu_v43-",
        "colab_type": "code",
        "colab": {}
      },
      "source": [
        "# linking the dataset\n",
        "\n",
        "DATA_NAME = '/content/gdrive/My Drive/Colab Notebooks/COLAB DATASETS/reviews_Health_and_Personal_Care_5.json.gz'\n",
        "APP_NAME = \"Sentiment Analysis with Amazon Reviews Exercise\"\n",
        "SPARK_URL = \"local[*]\"\n",
        "RANDOM_SEED = 141107\n",
        "TRAINING_DATA_RATIO = 0.8\n",
        "RF_NUM_TREES = 10\n",
        "RF_MAX_DEPTH = 4\n",
        "RF_NUM_BINS = 32"
      ],
      "execution_count": 0,
      "outputs": []
    },
    {
      "cell_type": "code",
      "metadata": {
        "id": "StHw2ticwc8t",
        "colab_type": "code",
        "colab": {}
      },
      "source": [
        "sc = SparkSession.builder.appName(APP_NAME).master(SPARK_URL).getOrCreate()\n",
        "sqlContext = SQLContext(sc)"
      ],
      "execution_count": 0,
      "outputs": []
    },
    {
      "cell_type": "code",
      "metadata": {
        "id": "7z7MJ7sswgHJ",
        "colab_type": "code",
        "colab": {}
      },
      "source": [
        "#File Extraction\n",
        "Health_and_Personal = sqlContext.read.json(DATA_NAME)"
      ],
      "execution_count": 0,
      "outputs": []
    },
    {
      "cell_type": "code",
      "metadata": {
        "id": "JZ-KaU1XwnTd",
        "colab_type": "code",
        "outputId": "5eaa33e4-9a70-4e9f-ac37-7bf57f94c8af",
        "colab": {
          "base_uri": "https://localhost:8080/",
          "height": 34
        }
      },
      "source": [
        "#Size of the dataset\n",
        "print(f\"Dataset shape is {Health_and_Personal.count():d} rows by {len(Health_and_Personal.columns):d} columns.\")"
      ],
      "execution_count": 9,
      "outputs": [
        {
          "output_type": "stream",
          "text": [
            "Dataset shape is 346355 rows by 9 columns.\n"
          ],
          "name": "stdout"
        }
      ]
    },
    {
      "cell_type": "code",
      "metadata": {
        "id": "k4vfExpOwwRX",
        "colab_type": "code",
        "colab": {}
      },
      "source": [
        "Health_and_Personal_test = Health_and_Personal.limit(100)"
      ],
      "execution_count": 0,
      "outputs": []
    },
    {
      "cell_type": "code",
      "metadata": {
        "id": "V2aihJ39DRdo",
        "colab_type": "code",
        "outputId": "e8a8d29e-579c-4fbb-acf9-8dc3d621bdd0",
        "colab": {
          "base_uri": "https://localhost:8080/",
          "height": 459
        }
      },
      "source": [
        "Health_and_Personal_test.show()"
      ],
      "execution_count": 11,
      "outputs": [
        {
          "output_type": "stream",
          "text": [
            "+----------+--------+-------+--------------------+-----------+--------------+--------------------+--------------------+--------------+\n",
            "|      asin| helpful|overall|          reviewText| reviewTime|    reviewerID|        reviewerName|             summary|unixReviewTime|\n",
            "+----------+--------+-------+--------------------+-----------+--------------+--------------------+--------------------+--------------+\n",
            "|159985130X|  [1, 1]|    5.0|This is a great l...| 01 5, 2011| ALC5GH8CAMAI7|                AnnN| Handy little gadget|    1294185600|\n",
            "|159985130X|  [1, 1]|    4.0|I would recommend...|02 18, 2012| AHKSURW85PJUE| AZ buyer \"AZ buyer\"|Small & may need ...|    1329523200|\n",
            "|159985130X|[75, 77]|    4.0|What I liked was ...| 06 8, 2010| A38RMU1Y5TDP9|Bob Tobias \"Rober...|Very good but not...|    1275955200|\n",
            "|159985130X|[56, 60]|    4.0|Love the Great po...| 02 8, 2008|A1XZUG7DFXXOS4|           Cat lover|great addition to...|    1202428800|\n",
            "|159985130X|  [1, 1]|    5.0|This is very nice...|08 16, 2011|A1MS3M7M7AM13X|          Cricketoes|Very nice and con...|    1313452800|\n",
            "|159985130X|  [2, 3]|    5.0|The light comes o...|02 24, 2007| AXO4PQU0XG3TG|              Dwight|$9.99, pretty and...|    1172275200|\n",
            "|159985130X|  [0, 0]|    4.0|These are lightwe...| 07 6, 2014|A28X0LT2100RL1|            Eusebius|Lightweight and e...|    1404604800|\n",
            "|159985130X|  [2, 2]|    5.0|We bought one for...|02 24, 2011|A1VUSWRVN8SJA8|         Gary \"Gary\"|Excellent Design ...|    1298505600|\n",
            "|159985130X|  [1, 1]|    3.0|The screen of the...|01 24, 2013|A1JQDCX4LDKBZ3|                guru|                Okay|    1358985600|\n",
            "|159985130X|  [1, 1]|    4.0|This pocket magni...| 06 2, 2012|A3RNRXOM5J2C93|  Jeffrey E. Cornett|    Pocket magnifier|    1338595200|\n",
            "|159985130X|  [1, 1]|    5.0|Seems to be a leg...|02 10, 2012| A691XU34BVWME|                  JM|can't be beat for...|    1328832000|\n",
            "|159985130X|  [1, 1]|    5.0|I'll admit it.  I...|05 16, 2012|A2DVBBARHJIW9J|            KCinDC76|If you have to ac...|    1337126400|\n",
            "|159985130X|  [1, 1]|    5.0|This magnifier is...|01 22, 2012|A18FVLDES5YJRO|    Lovin-Retirement|Just what I was l...|    1327190400|\n",
            "|159985130X|  [2, 2]|    5.0|Most of the purse...|01 10, 2011|A34I83UGTKSXGO|manydryriversAZ \"...|COLORFUL, lighted...|    1294617600|\n",
            "|159985130X|  [1, 1]|    5.0|I got two of thes...|01 29, 2013|A1PT2AYNWN1LW8|M. Linda Hopp \"ho...|  A gift for parents|    1359417600|\n",
            "|159985130X|[35, 40]|    4.0|I only gave this ...|08 11, 2007|A250GXRD2BGQV2|         NatureLover|Very handy, works...|    1186790400|\n",
            "|159985130X|  [2, 2]|    5.0|This is a great l...|02 25, 2010|A3IUW081KXD3PE|     pixels and bits|Unconditional 5 s...|    1267056000|\n",
            "|159985130X|  [1, 1]|    3.0|This magnifier ha...|02 21, 2012|A2WU34FQ0ZFVZH|              review|            No Cover|    1329782400|\n",
            "|159985130X|  [2, 2]|    5.0|I carry this arou...|09 19, 2010|A1K8PBCHA6YW40|               S. A.|very handy--wish ...|    1284854400|\n",
            "|159985130X|  [1, 1]|    5.0|UPDATE: This mode...|05 14, 2013|A1LFUGQQ2U475V|     Tech Test Pilot|Walgreens appears...|    1368489600|\n",
            "+----------+--------+-------+--------------------+-----------+--------------+--------------------+--------------------+--------------+\n",
            "only showing top 20 rows\n",
            "\n"
          ],
          "name": "stdout"
        }
      ]
    },
    {
      "cell_type": "code",
      "metadata": {
        "id": "VpRWeyXPAF4j",
        "colab_type": "code",
        "colab": {}
      },
      "source": [
        "# If the overall is less than 3 it will be a negative review \n",
        "udf = UserDefinedFunction(lambda x: 1 if x > 2.0 else -1, IntegerType())\n",
        "\n",
        "\n",
        "Health_and_Personal_test = Health_and_Personal_test.withColumn(\"overall_recode\",udf(Health_and_Personal_test.overall))"
      ],
      "execution_count": 0,
      "outputs": []
    },
    {
      "cell_type": "code",
      "metadata": {
        "id": "4zDYQVg4GpVj",
        "colab_type": "code",
        "outputId": "2cb710d7-e8e8-43f9-af96-8f2a8d565788",
        "colab": {
          "base_uri": "https://localhost:8080/",
          "height": 441
        }
      },
      "source": [
        "plt.rcParams['figure.figsize'] = (15, 6)\n",
        " \n",
        "statuses = Health_and_Personal_test.groupBy('overall_recode').count().collect()\n",
        "\n",
        "categories = [i[0] for i in statuses]\n",
        "counts = [i[1] for i in statuses]\n",
        " \n",
        "ind = np.array(range(len(categories)))\n",
        "width = 0.35\n",
        "plt.bar(ind, counts, width=width, color='r')\n",
        " \n",
        "plt.ylabel('counts')\n",
        "plt.title('distribution')\n",
        "plt.xticks(ind + width/2., categories)"
      ],
      "execution_count": 13,
      "outputs": [
        {
          "output_type": "execute_result",
          "data": {
            "text/plain": [
              "([<matplotlib.axis.XTick at 0x7f478db0b8d0>,\n",
              "  <matplotlib.axis.XTick at 0x7f478db0b438>],\n",
              " <a list of 2 Text xticklabel objects>)"
            ]
          },
          "metadata": {
            "tags": []
          },
          "execution_count": 13
        },
        {
          "output_type": "display_data",
          "data": {
            "image/png": "[encoded data removed]",
            "text/plain": [
              "<Figure size 1080x432 with 1 Axes>"
            ]
          },
          "metadata": {
            "tags": []
          }
        }
      ]
    },
    {
      "cell_type": "code",
      "metadata": {
        "id": "2GpfhD5lvnXW",
        "colab_type": "code",
        "outputId": "518f2886-35b1-412d-bb20-e84f82cf917f",
        "colab": {
          "base_uri": "https://localhost:8080/",
          "height": 289
        }
      },
      "source": [
        "Health_and_Personal_test.select(\"overall\", \"overall_recode\").show(10)"
      ],
      "execution_count": 14,
      "outputs": [
        {
          "output_type": "stream",
          "text": [
            "+-------+--------------+\n",
            "|overall|overall_recode|\n",
            "+-------+--------------+\n",
            "|    5.0|             1|\n",
            "|    4.0|             1|\n",
            "|    4.0|             1|\n",
            "|    4.0|             1|\n",
            "|    5.0|             1|\n",
            "|    5.0|             1|\n",
            "|    4.0|             1|\n",
            "|    5.0|             1|\n",
            "|    3.0|             1|\n",
            "|    4.0|             1|\n",
            "+-------+--------------+\n",
            "only showing top 10 rows\n",
            "\n"
          ],
          "name": "stdout"
        }
      ]
    },
    {
      "cell_type": "code",
      "metadata": {
        "id": "2HcyeVtkz2Ob",
        "colab_type": "code",
        "colab": {}
      },
      "source": [
        "tokenizer = Tokenizer(inputCol=\"reviewText\", outputCol=\"tokenized_text\").transform(Health_and_Personal_test)\n",
        "\n",
        "word2Vec = Word2Vec(vectorSize=300, seed=42, inputCol=\"tokenized_text\", outputCol=\"w2v_vector\").fit(tokenizer)\n",
        "\n",
        "w2vdf=word2Vec.transform(tokenizer)"
      ],
      "execution_count": 0,
      "outputs": []
    },
    {
      "cell_type": "code",
      "metadata": {
        "id": "4iHGGK18eL-m",
        "colab_type": "code",
        "colab": {
          "base_uri": "https://localhost:8080/",
          "height": 289
        },
        "outputId": "4402eef6-7a73-43ff-e851-6145b3092a1e"
      },
      "source": [
        "w2vdf.select(\"overall_recode\", \"reviewText\", \"tokenized_text\", \"w2v_vector\").show(10)"
      ],
      "execution_count": 19,
      "outputs": [
        {
          "output_type": "stream",
          "text": [
            "+--------------+--------------------+--------------------+--------------------+\n",
            "|overall_recode|          reviewText|      tokenized_text|          w2v_vector|\n",
            "+--------------+--------------------+--------------------+--------------------+\n",
            "|             1|This is a great l...|[this, is, a, gre...|[-0.0063257018666...|\n",
            "|             1|I would recommend...|[i, would, recomm...|[-0.0055632336493...|\n",
            "|             1|What I liked was ...|[what, i, liked, ...|[-0.0056200885025...|\n",
            "|             1|Love the Great po...|[love, the, great...|[-0.0055727143224...|\n",
            "|             1|This is very nice...|[this, is, very, ...|[-0.0055186316552...|\n",
            "|             1|The light comes o...|[the, light, come...|[-0.0071896280415...|\n",
            "|             1|These are lightwe...|[these, are, ligh...|[-0.0051450958599...|\n",
            "|             1|We bought one for...|[we, bought, one,...|[-0.0031569144406...|\n",
            "|             1|The screen of the...|[the, screen, of,...|[-0.0059903999631...|\n",
            "|             1|This pocket magni...|[this, pocket, ma...|[-0.0062841865971...|\n",
            "+--------------+--------------------+--------------------+--------------------+\n",
            "only showing top 10 rows\n",
            "\n"
          ],
          "name": "stdout"
        }
      ]
    },
    {
      "cell_type": "code",
      "metadata": {
        "id": "xkB9jllN9Rec",
        "colab_type": "code",
        "colab": {}
      },
      "source": [
        "\n",
        "\n",
        "# first we'll generate a labelIndexer\n",
        "labelIndexer = StringIndexer(inputCol=\"overall_recode\", outputCol=\"indexedLabel\").fit(w2vdf)\n",
        "\n",
        "# now generate the indexed feature vector.\n",
        "featureIndexer = VectorIndexer(inputCol=\"w2v_vector\", outputCol=\"indexedFeatures\", maxCategories=4).fit(w2vdf)\n",
        "    \n",
        "# Split the data into training and validation sets (30% held out for testing)\n",
        "(trainingData, testData) = w2vdf.randomSplit([TRAINING_DATA_RATIO, 1 - TRAINING_DATA_RATIO])\n",
        "\n",
        "# Train a RandomForest model.\n",
        "rf = RandomForestClassifier(labelCol=\"indexedLabel\", featuresCol=\"indexedFeatures\", numTrees=RF_NUM_TREES)\n",
        "\n",
        "# Chain indexers and forest in a Pipeline\n",
        "pipeline = Pipeline(stages=[labelIndexer, featureIndexer, rf])"
      ],
      "execution_count": 0,
      "outputs": []
    },
    {
      "cell_type": "code",
      "metadata": {
        "id": "6NN8k1eS9X7h",
        "colab_type": "code",
        "colab": {}
      },
      "source": [
        "# Train model.  This also runs the indexers.\n",
        "model = pipeline.fit(trainingData)\n",
        "\n",
        "# Make predictions.\n",
        "predictions = model.transform(testData)"
      ],
      "execution_count": 0,
      "outputs": []
    },
    {
      "cell_type": "code",
      "metadata": {
        "id": "UQX6cifl9i7u",
        "colab_type": "code",
        "colab": {
          "base_uri": "https://localhost:8080/",
          "height": 51
        },
        "outputId": "623494fa-bd6a-4aeb-9ac8-35071924a3eb"
      },
      "source": [
        "# Select (prediction, true label) and compute test error\n",
        "evaluator = MulticlassClassificationEvaluator(\n",
        "    labelCol=\"indexedLabel\", predictionCol=\"prediction\", metricName=\"accuracy\")\n",
        "accuracy = evaluator.evaluate(predictions)\n",
        "\n",
        "print(f\"Test Error = {(1.0 - accuracy):g}\")\n",
        "print(f\"Accuracy = {accuracy:g}\")"
      ],
      "execution_count": 22,
      "outputs": [
        {
          "output_type": "stream",
          "text": [
            "Test Error = 0.0714286\n",
            "Accuracy = 0.928571\n"
          ],
          "name": "stdout"
        }
      ]
    }
  ]
}